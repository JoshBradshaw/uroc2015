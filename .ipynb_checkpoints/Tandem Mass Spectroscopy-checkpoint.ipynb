{
 "cells": [
  {
   "cell_type": "markdown",
   "metadata": {},
   "source": [
    "# De Novo Peptide Sequencing In Real Time\n",
    "**Goal : Protein Identification from the Mass and Intensity readings of the ions from the Taandem Mass Spectrometer**\n",
    "\n",
    "But before we go into details regarding the method let us first understand what we mean by Tandem Mass Spectroscopy."
   ]
  },
  {
   "cell_type": "markdown",
   "metadata": {},
   "source": [
    "# Tandem Mass Spectroscopy"
   ]
  },
  {
   "cell_type": "markdown",
   "metadata": {},
   "source": [
    "## What is Mass Spectroscopy?"
   ]
  },
  {
   "cell_type": "markdown",
   "metadata": {},
   "source": [
    "It is an analytcial chemistry technique that helps identify the amount and type of chemicals present in a sample by measuring the mass-to-charge ratio of ions."
   ]
  },
  {
   "cell_type": "markdown",
   "metadata": {},
   "source": [
    "[](https://www.thermofisher.com/us/en/home/life-science/protein-biology/protein-biology-learning-center/protein-biology-resource-library/pierce-protein-methods/overview-mass-spectrometry/_jcr_content/MainParsys/image_87cb.img.jpg/1437656378809.jpg)"
   ]
  },
  {
   "cell_type": "markdown",
   "metadata": {},
   "source": [
    "![alt text](https://www.thermofisher.com/us/en/home/life-science/protein-biology/protein-biology-learning-center/protein-biology-resource-library/pierce-protein-methods/overview-mass-spectrometry/_jcr_content/MainParsys/image_87cb.img.jpg/1437656378809.jpg)"
   ]
  },
  {
   "cell_type": "markdown",
   "metadata": {},
   "source": [
    "## So, are Tandem Mass Spectroscopy and Mass Spectroscopy the same?\n",
    "No they are not. Tandem Mass Spectroscopy uses a tandem mass spectrometer. A Tandem Mass Spectrometer can be thought of as two mass spectrometers connected in series by a chamber that can break molecules into pieces.\n",
    "\n",
    "![alt text](https://upload.wikimedia.org/wikipedia/commons/thumb/f/fc/Q-TOF.jpg/300px-Q-TOF.jpg)\n",
    "\n",
    "### When do we want to use Tandem Mass Spectroscopy?\n",
    "Most of the times it is impractical to identify all the compounds and thus it is better to identify certain specific compunds which are of interest to our research. In a Tandem Mass Spectrometer, a sample is first sorted or weighed in the first Mass Spectrometer, it is then broken down into multiple pieces in the collision cell and then a piece or pieces are weighed and sorted in the second Mass Spectrometer\n",
    "\n",
    "![alt text](https://upload.wikimedia.org/wikipedia/commons/thumb/e/eb/MS_MS.png/400px-MS_MS.png)"
   ]
  },
  {
   "cell_type": "markdown",
   "metadata": {},
   "source": [
    "# Method We Followed"
   ]
  },
  {
   "cell_type": "markdown",
   "metadata": {},
   "source": [
    "**We took the following steps to identify the proteins:**\n",
    "1. **Parsing the possible Amino Acid Strings from the FASTA file**\n",
    "2. **Converting these Amino Acid Strings into possible Tryptic Peptides**\n",
    "3. **Parsing the Mass Spectrometer data from the MGF file**\n",
    "4. **Calculating the mass and charge of the spectrum of that particular scan**\n",
    "5. **Filtering down the possible peptides using the mass of the spectrum**\n",
    "6. **Selection of peptide using the scoring functions**\n",
    "7. **Valdiation**"
   ]
  },
  {
   "cell_type": "markdown",
   "metadata": {},
   "source": [
    "## Parsing the protein data"
   ]
  },
  {
   "cell_type": "markdown",
   "metadata": {},
   "source": [
    "The first thing that we though would make sense to do is to just read in the database of the available proteins(amino acid chains) and store them so that we can use them later to form tryptic peptides. For that we basically wrote a scraper fucntion that reads the file and scrapes all the proteins from it.\n",
    "\n",
    "`def readFasta(filename):\n",
    "    proteins = {}\n",
    "\tinf = open(filename,'rU')\n",
    "\tname = \"\"\n",
    "\tdna = \"\"\n",
    "\tfor line in inf:\n",
    "\t\tline = line.strip()\n",
    "\t\tif line[0] == '>':\n",
    "\t\t\tif name != \"\" :\n",
    "\t\t\t\tproteins[name] = dna\n",
    "\t\t\tname = line[1:]\n",
    "\t\t\tdna = \"\"\n",
    "\t\telse : \n",
    "\t\t\tdna += line\n",
    "\tproteins[name] = dna`"
   ]
  },
  {
   "cell_type": "markdown",
   "metadata": {},
   "source": [
    "So this basically gave us a dictionary of all the proteins in the file which can be easily accessible using the Accession.\n",
    "\n",
    "*FASTA : A text-based format for representing either nucleotide sequences or peptide sequences*"
   ]
  },
  {
   "cell_type": "markdown",
   "metadata": {},
   "source": [
    "## Converting the Proteins into Tryptic Peptides\n",
    "\n",
    "#### What is a Tryptic Peptide?\n",
    "A Tryptic peptide is a peptides that have been digested by Trypsin at sites [KR]|[^P].\n",
    "\n",
    "*Peptide is a shrot chain of amino acids linked by amide bonds*\n",
    "\n",
    "#### Conversion\n",
    "To convert the amino acid sequences into tryptic peptides, we wrote a regular expression based function that split the seqeuences at the Trypsin digestion sites.\n",
    "\n",
    "`def sep_peptides(peptide): \n",
    "    peptides = []\n",
    "    split_matches = re.finditer(r'[RK](?!P)', peptide)\n",
    "    prev_split_location = 0\n",
    "    for m in split_matches:\n",
    "        split_location = m.end()\n",
    "        peptides.append(peptide[prev_split_location:split_location])\n",
    "        prev_split_location = split_location\n",
    "    return peptide`"
   ]
  },
  {
   "cell_type": "markdown",
   "metadata": {},
   "source": [
    "**Both the first 2 steps can be achieved by executing the following line of code either with ups.fasta (the small daatbase) or with UP000005640_9606.fasta (the big database) and the output will be saved in a regular .txt file**"
   ]
  },
  {
   "cell_type": "code",
   "execution_count": 5,
   "metadata": {
    "collapsed": true
   },
   "outputs": [],
   "source": [
    "run read_fasta.py ups.fasta"
   ]
  },
  {
   "cell_type": "markdown",
   "metadata": {},
   "source": [
    "## Parsing the Mass Spectrometer Data\n",
    "\n",
    "To read and store the data for future purposes we wrote a parser function that stored the mass-intensity pairs of the spectrum along with the metadata like the mass to charge ratio, the scan number and the charge of the ion.\n",
    "\n",
    "*Mascot Generic Format(mgf) is a format in which each Mass Spectrometer readings is stored as a list of pairs of mass and intensity*\n",
    "\n",
    "`def read_mgf(fp):\n",
    "    metadata = {}\n",
    "    spectrums = []\n",
    "    with open(fp, 'r') as f:\n",
    "        for line in f:\n",
    "            line = line.strip()\n",
    "            if line==\"BEGIN IONS\":\n",
    "                spectrum = []\n",
    "                metadata = {}\n",
    "            if line==\"END IONS\":\n",
    "                spectrums.append( (metadata, spectrum) )\n",
    "\n",
    "            if line:\n",
    "                if line.count('=') == 1:\n",
    "                    label, value = line.split('=')\n",
    "                    if not label == 'CHARGE':\n",
    "                        if '.' in value:\n",
    "                            metadata[label] = float(value)\n",
    "                        else:\n",
    "                            metadata[label] = int(value)\n",
    "                    else:\n",
    "                        metadata[label] = value\n",
    "                elif line[0].isdigit():\n",
    "                    mass, intensity = line.split(' ')\n",
    "                    spectrum.append( (float(mass), float(intensity)) )\n",
    "                else:\n",
    "                    pass\n",
    "    return spectrum`"
   ]
  },
  {
   "cell_type": "markdown",
   "metadata": {},
   "source": [
    "## Calculating Mass and Charge\n",
    "\n",
    "Having been already stored as metadata whilst parsing of the file, this one was a fairly easier step as it just required us to obtain the required numbers from the metadata.\n",
    "\n",
    "**Charge was already stored in the file and hence was accessible from the metadata**\n",
    "\n",
    "`def calc_charge(metadata):\n",
    "    return int(metadata['CHARGE'][0]`\n",
    "\n",
    "**Mass however wasn't already stored in the file and arithmetic operations were required to find out the mass**\n",
    "\n",
    "The formula used was (m+ 18.01)/z + 1.007 = PEPMASS(Stored in MGF File)\n",
    "\n",
    "`def calc_mass(metadata,charge):\n",
    "    pep_mass = metadata['PEPMASS']\n",
    "    mass = (pep_mass - 1.007)*charge - 18.01\n",
    "    return mass`\n"
   ]
  },
  {
   "cell_type": "markdown",
   "metadata": {},
   "source": [
    "## Filtering Using Mass\n",
    "\n",
    "The basic idea was that the mass of the peptide should match or be close to the mass of the spectrum. The accepted error was +/- 0.5 Daltons. The steps that we followed to achieve filtering by mass were as follows :\n",
    "\n",
    "1. **Calculate the mass of the peptide**\n",
    "2. **Filter out the peptides who are not within 0.5 of the mass of the spectrum**\n",
    "\n",
    "*Dalton : 1/12 of Carbon-12 atom*\n",
    "\n",
    "#### Mass of the Peptide\n",
    "\n",
    "To calculate the mass of the peptide we used the [Amino Acid Mass Table](http://education.expasy.org/student_projects/isotopident/htdocs/aa-list.html). The only change we made to the table was to add 57.0219 to the mass of the Cytasine due to the changes made to it inside the Mass Spectrometer.\n",
    "\n",
    "#### Filtering Out\n",
    "\n",
    "We just needed to get the list of all possible candidates which we achieved using:\n",
    "\n",
    "`def find_candidates(peptides,mass):\n",
    "    candidates = []\n",
    "    for peptide in peptides:\n",
    "        if abs(peptides[peptide] - mass) < 0.5 :\n",
    "            candidates.append(peptide)\n",
    "    return candidate`"
   ]
  },
  {
   "cell_type": "markdown",
   "metadata": {},
   "source": [
    "## Selection Using Scoring Function\n",
    "\n",
    "** Y-ion mass = Amino Acid Mass + 19.018**\n",
    "\n",
    "**A Simple Scoring Function** : \n",
    "\n",
    " - For “suffix mass” m, f(m)=1 if corresponding y-ion matched a peak; f(m)=0 if not.\n",
    " - score(P) = sum of all f(m)\n",
    " \n",
    "**A Better Scoring Function** :\n",
    "\n",
    " - f(m) = log (1 + 100 * relative intensity of matched y-ion)\n",
    " - Relative intensity is ratio between current peak and the highest peak in the spectrum."
   ]
  },
  {
   "cell_type": "markdown",
   "metadata": {},
   "source": [
    "**All the results can be generated running the following command**\n",
    "\n",
    "`> python read_mgf.py <fasta_file> <mgf_file>`"
   ]
  },
  {
   "cell_type": "markdown",
   "metadata": {},
   "source": [
    "## Validation\n",
    "\n",
    "We valdiated the results stored in the candidates\\*.txt file with a python script that compared the result of the commercial software for a given scan number with our result.\n",
    "\n",
    "The command line command that did it was as follows:\n",
    "\n",
    "`python diff.py candidates*.txt`"
   ]
  },
  {
   "cell_type": "markdown",
   "metadata": {},
   "source": [
    "# Results and Improvements\n",
    "\n",
    "### Results with Small Database\n",
    "\n",
    "** Scans Commercial Software found a result for : 282**\n",
    "\n",
    "** Correct Scans With Simple Scoring Function and only Y-ions : 136**\n",
    "\n",
    "** Correct Scans With Simple Scoring Function and both Y-ions and B-ions : 136**\n",
    "\n",
    "** Correct Scans With Better Scoring Function and only Y-ions : 177**\n",
    "\n",
    "** Correct Scans With Better Scoring Function and both Y-ions and B-ions : 178**\n",
    "\n",
    "### Results with Big Databse\n",
    "\n",
    "** Correct Scans with Better Scoring Function and only Y-ions : 125**\n",
    "\n",
    "** Correct Scans with Better Scoring Function and both Y-ions and B-ions : 141**\n",
    "\n",
    "*Possibly our scoring function isn't the most effective and it has problems dealing with a large database*"
   ]
  },
  {
   "cell_type": "markdown",
   "metadata": {},
   "source": [
    "# Future Improvements\n",
    "\n",
    "- **Try a random \"decoy\" protein sequence database**\n",
    "- **Normalize the peptide spectrum match score** \n",
    "- **Search for non tryptic peptides** "
   ]
  },
  {
   "cell_type": "code",
   "execution_count": null,
   "metadata": {
    "collapsed": true
   },
   "outputs": [],
   "source": []
  }
 ],
 "metadata": {
  "kernelspec": {
   "display_name": "Python 2",
   "language": "python",
   "name": "python2"
  },
  "language_info": {
   "codemirror_mode": {
    "name": "ipython",
    "version": 2
   },
   "file_extension": ".py",
   "mimetype": "text/x-python",
   "name": "python",
   "nbconvert_exporter": "python",
   "pygments_lexer": "ipython2",
   "version": "2.7.5"
  }
 },
 "nbformat": 4,
 "nbformat_minor": 0
}
